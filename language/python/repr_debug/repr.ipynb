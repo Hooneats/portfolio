{
 "cells": [
  {
   "cell_type": "code",
   "execution_count": 5,
   "metadata": {},
   "outputs": [],
   "source": [
    "msg1 = 'hello world'\n",
    "msg2 = 100\n",
    "msg3 = 3.14"
   ]
  },
  {
   "cell_type": "markdown",
   "metadata": {},
   "source": [
    "### __str__출력"
   ]
  },
  {
   "cell_type": "code",
   "execution_count": 7,
   "metadata": {},
   "outputs": [
    {
     "name": "stdout",
     "output_type": "stream",
     "text": [
      "msg1: hello world\n",
      "msg2: 100\n",
      "msg3: 3.14\n"
     ]
    }
   ],
   "source": [
    "print(f'msg1: {msg1.__str__()}')\n",
    "print(f'msg2: {msg2.__str__()}')\n",
    "print(f'msg3: {msg3.__str__()}')"
   ]
  },
  {
   "cell_type": "markdown",
   "metadata": {},
   "source": [
    "### repr출력\n",
    "* __str__와 다르게 타입을 보존해서 출력"
   ]
  },
  {
   "cell_type": "code",
   "execution_count": 8,
   "metadata": {},
   "outputs": [
    {
     "name": "stdout",
     "output_type": "stream",
     "text": [
      "msg1: 'hello world'\n",
      "msg1: 100\n",
      "msg1: 3.14\n"
     ]
    }
   ],
   "source": [
    "print(f'msg1: {repr(msg1)}')\n",
    "print(f'msg1: {repr(msg2)}')\n",
    "print(f'msg1: {repr(msg3)}')"
   ]
  },
  {
   "cell_type": "markdown",
   "metadata": {},
   "source": [
    "### class 예제"
   ]
  },
  {
   "cell_type": "code",
   "execution_count": 16,
   "metadata": {},
   "outputs": [],
   "source": [
    "class MyMessage:\n",
    "    def __init__(self):\n",
    "        self.msg1 = 'hello world'\n",
    "\n",
    "    def __str__(self):\n",
    "        return self.msg1\n",
    "    \n",
    "    def __repr__(self):\n",
    "        return f\"msg: {msg}\""
   ]
  },
  {
   "cell_type": "code",
   "execution_count": 20,
   "metadata": {},
   "outputs": [
    {
     "name": "stdout",
     "output_type": "stream",
     "text": [
      "hello world\n",
      "<class 'str'>\n",
      "msg: hello world\n",
      "<class 'str'>\n"
     ]
    }
   ],
   "source": [
    "msg = MyMessage()\n",
    "print(msg.__str__())\n",
    "print(type(msg.__str__()))\n",
    "print(msg.__repr__())\n",
    "print(type(msg.__repr__()))"
   ]
  }
 ],
 "metadata": {
  "kernelspec": {
   "display_name": "Python 3",
   "language": "python",
   "name": "python3"
  },
  "language_info": {
   "codemirror_mode": {
    "name": "ipython",
    "version": 3
   },
   "file_extension": ".py",
   "mimetype": "text/x-python",
   "name": "python",
   "nbconvert_exporter": "python",
   "pygments_lexer": "ipython3",
   "version": "3.8.5"
  }
 },
 "nbformat": 4,
 "nbformat_minor": 4
}
