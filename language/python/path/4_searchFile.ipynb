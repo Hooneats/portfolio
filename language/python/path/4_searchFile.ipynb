{
 "cells": [
  {
   "cell_type": "code",
   "execution_count": 8,
   "metadata": {},
   "outputs": [],
   "source": [
    "from glob import glob\n",
    "from pathlib import Path\n",
    "import os"
   ]
  },
  {
   "cell_type": "markdown",
   "metadata": {},
   "source": [
    "## os.listdir를 이용한 파일/디렉터리 리스트\n",
    "장점: 사용법이 매우 간단: 경로만 입력 <br>\n",
    "단점: 파일인지 디렉터리인지 구분 불가, 정규식 불가"
   ]
  },
  {
   "cell_type": "code",
   "execution_count": 11,
   "metadata": {},
   "outputs": [
    {
     "name": "stdout",
     "output_type": "stream",
     "text": [
      ".ipynb_checkpoints\n",
      "1_get_path.ipynb\n",
      "1_get_path.py\n",
      "2_copyfile.py\n",
      "3_openfile.py\n",
      "4_searchFile.ipynb\n",
      "4_searchFile.py\n",
      "dst.txt\n",
      "Readme.md\n",
      "src.txt\n",
      "test_glob_search\n"
     ]
    }
   ],
   "source": [
    "for filename in os.listdir(Path(\".\")):\n",
    "    print(filename)"
   ]
  },
  {
   "cell_type": "markdown",
   "metadata": {},
   "source": [
    "## 검색 비교 glob vs listdir"
   ]
  },
  {
   "cell_type": "code",
   "execution_count": 18,
   "metadata": {},
   "outputs": [
    {
     "name": "stdout",
     "output_type": "stream",
     "text": [
      "1_get_path.py\n",
      "2_copyfile.py\n",
      "3_openfile.py\n",
      "4_searchFile.py\n"
     ]
    }
   ],
   "source": [
    "for name in glob(\"*.py\"):\n",
    "    print(name)"
   ]
  },
  {
   "cell_type": "code",
   "execution_count": 19,
   "metadata": {},
   "outputs": [
    {
     "ename": "FileNotFoundError",
     "evalue": "[WinError 3] 지정된 경로를 찾을 수 없습니다: '.py'",
     "output_type": "error",
     "traceback": [
      "\u001b[1;31m---------------------------------------------------------------------------\u001b[0m",
      "\u001b[1;31mFileNotFoundError\u001b[0m                         Traceback (most recent call last)",
      "\u001b[1;32m<ipython-input-19-fa94662337ac>\u001b[0m in \u001b[0;36m<module>\u001b[1;34m\u001b[0m\n\u001b[1;32m----> 1\u001b[1;33m \u001b[1;32mfor\u001b[0m \u001b[0mname\u001b[0m \u001b[1;32min\u001b[0m \u001b[0mos\u001b[0m\u001b[1;33m.\u001b[0m\u001b[0mlistdir\u001b[0m\u001b[1;33m(\u001b[0m\u001b[1;34m\".py\"\u001b[0m\u001b[1;33m)\u001b[0m\u001b[1;33m:\u001b[0m\u001b[1;33m\u001b[0m\u001b[1;33m\u001b[0m\u001b[0m\n\u001b[0m\u001b[0;32m      2\u001b[0m     \u001b[0mprint\u001b[0m\u001b[1;33m(\u001b[0m\u001b[0mname\u001b[0m\u001b[1;33m)\u001b[0m\u001b[1;33m\u001b[0m\u001b[1;33m\u001b[0m\u001b[0m\n",
      "\u001b[1;31mFileNotFoundError\u001b[0m: [WinError 3] 지정된 경로를 찾을 수 없습니다: '.py'"
     ]
    }
   ],
   "source": [
    "for name in os.listdir(\".py\"):\n",
    "    print(name)"
   ]
  },
  {
   "cell_type": "markdown",
   "metadata": {},
   "source": [
    "## 하위 디렉터리 검색"
   ]
  },
  {
   "cell_type": "code",
   "execution_count": 29,
   "metadata": {},
   "outputs": [
    {
     "name": "stdout",
     "output_type": "stream",
     "text": [
      "dst.txt\n",
      "src.txt\n"
     ]
    }
   ],
   "source": [
    "# 현재 디렉터리에 있는 txt파일 목록\n",
    "for name in glob(\"*.txt\"):\n",
    "    print(name)"
   ]
  },
  {
   "cell_type": "code",
   "execution_count": 31,
   "metadata": {},
   "outputs": [
    {
     "name": "stdout",
     "output_type": "stream",
     "text": [
      "dst.txt\n",
      "src.txt\n",
      "test_glob_search\\1\\1.txt\n",
      "test_glob_search\\1\\2.txt\n",
      "test_glob_search\\1\\3.txt\n",
      "test_glob_search\\2\\dev\\1.txt\n",
      "test_glob_search\\2\\dev\\2.txt\n",
      "test_glob_search\\2\\dev\\3.txt\n",
      "test_glob_search\\2\\prod\\1.txt\n",
      "test_glob_search\\2\\prod\\2.txt\n",
      "test_glob_search\\2\\prod\\3.txt\n"
     ]
    }
   ],
   "source": [
    "# 현재 디렉터리에(하위 디렉터리 포함) 모든 txt파일 목록\n",
    "for name in glob(\"**/*.txt\", recursive = True):\n",
    "    print(name)"
   ]
  },
  {
   "cell_type": "code",
   "execution_count": 32,
   "metadata": {},
   "outputs": [
    {
     "name": "stdout",
     "output_type": "stream",
     "text": [
      "1_get_path.ipynb\n",
      "1_get_path.py\n",
      "2_copyfile.py\n",
      "3_openfile.py\n",
      "4_searchFile.ipynb\n",
      "4_searchFile.py\n",
      "dst.txt\n",
      "Readme.md\n",
      "src.txt\n",
      "1_get_path-checkpoint.ipynb\n",
      "4_searchFile-checkpoint.ipynb\n",
      "1.csv\n",
      "1.sql\n",
      "1.txt\n",
      "2.txt\n",
      "3.txt\n",
      "1.csv\n",
      "1.sql\n",
      "1.txt\n",
      "2.txt\n",
      "3.txt\n",
      "1.csv\n",
      "1.sql\n",
      "1.txt\n",
      "2.txt\n",
      "3.txt\n"
     ]
    }
   ],
   "source": [
    "# # 현재 디렉터리에(하위 디렉터리 포함) 모든 파일 목록\n",
    "for dirpath, dirs, files in os.walk(\".\"):\n",
    "    for filename in files:\n",
    "        print(filename)"
   ]
  },
  {
   "cell_type": "code",
   "execution_count": 35,
   "metadata": {},
   "outputs": [
    {
     "name": "stdout",
     "output_type": "stream",
     "text": [
      ".\\1_get_path.ipynb\n",
      ".\\1_get_path.py\n",
      ".\\2_copyfile.py\n",
      ".\\3_openfile.py\n",
      ".\\4_searchFile.ipynb\n",
      ".\\4_searchFile.py\n",
      ".\\dst.txt\n",
      ".\\Readme.md\n",
      ".\\src.txt\n",
      ".\\.ipynb_checkpoints\\1_get_path-checkpoint.ipynb\n",
      ".\\.ipynb_checkpoints\\4_searchFile-checkpoint.ipynb\n",
      ".\\test_glob_search\\1\\1.csv\n",
      ".\\test_glob_search\\1\\1.sql\n",
      ".\\test_glob_search\\1\\1.txt\n",
      ".\\test_glob_search\\1\\2.txt\n",
      ".\\test_glob_search\\1\\3.txt\n",
      ".\\test_glob_search\\2\\dev\\1.csv\n",
      ".\\test_glob_search\\2\\dev\\1.sql\n",
      ".\\test_glob_search\\2\\dev\\1.txt\n",
      ".\\test_glob_search\\2\\dev\\2.txt\n",
      ".\\test_glob_search\\2\\dev\\3.txt\n",
      ".\\test_glob_search\\2\\prod\\1.csv\n",
      ".\\test_glob_search\\2\\prod\\1.sql\n",
      ".\\test_glob_search\\2\\prod\\1.txt\n",
      ".\\test_glob_search\\2\\prod\\2.txt\n",
      ".\\test_glob_search\\2\\prod\\3.txt\n"
     ]
    }
   ],
   "source": [
    "# # 현재 디렉터리에(하위 디렉터리 포함) 모든 파일 경로 출력\n",
    "for dirpath, dirs, files in os.walk(\".\"):\n",
    "    for filename in files:\n",
    "        filepath = os.path.join(dirpath, filename)\n",
    "        print(filepath)        "
   ]
  },
  {
   "cell_type": "code",
   "execution_count": 43,
   "metadata": {},
   "outputs": [
    {
     "name": "stdout",
     "output_type": "stream",
     "text": [
      "C:\\Users\\KB-NB-2020-41\\Downloads\\portfolio\\language\\python\\path\\dst.txt\n",
      "C:\\Users\\KB-NB-2020-41\\Downloads\\portfolio\\language\\python\\path\\src.txt\n",
      "C:\\Users\\KB-NB-2020-41\\Downloads\\portfolio\\language\\python\\path\\test_glob_search\\1\\1.txt\n",
      "C:\\Users\\KB-NB-2020-41\\Downloads\\portfolio\\language\\python\\path\\test_glob_search\\1\\2.txt\n",
      "C:\\Users\\KB-NB-2020-41\\Downloads\\portfolio\\language\\python\\path\\test_glob_search\\1\\3.txt\n",
      "C:\\Users\\KB-NB-2020-41\\Downloads\\portfolio\\language\\python\\path\\test_glob_search\\2\\dev\\1.txt\n",
      "C:\\Users\\KB-NB-2020-41\\Downloads\\portfolio\\language\\python\\path\\test_glob_search\\2\\dev\\2.txt\n",
      "C:\\Users\\KB-NB-2020-41\\Downloads\\portfolio\\language\\python\\path\\test_glob_search\\2\\dev\\3.txt\n",
      "C:\\Users\\KB-NB-2020-41\\Downloads\\portfolio\\language\\python\\path\\test_glob_search\\2\\prod\\1.txt\n",
      "C:\\Users\\KB-NB-2020-41\\Downloads\\portfolio\\language\\python\\path\\test_glob_search\\2\\prod\\2.txt\n",
      "C:\\Users\\KB-NB-2020-41\\Downloads\\portfolio\\language\\python\\path\\test_glob_search\\2\\prod\\3.txt\n"
     ]
    }
   ],
   "source": [
    "# # 현재 디렉터리에(하위 디렉터리 포함) 모든 txt파일 경로 출력\n",
    "for dirpath, dirs, files in os.walk(\".\"):\n",
    "    for filename in files:\n",
    "        if filename.endswith(\".txt\"):\n",
    "            filepath = os.path.join(dirpath, filename)\n",
    "            print(os.path.abspath(filepath))"
   ]
  }
 ],
 "metadata": {
  "kernelspec": {
   "display_name": "Python 3",
   "language": "python",
   "name": "python3"
  },
  "language_info": {
   "codemirror_mode": {
    "name": "ipython",
    "version": 3
   },
   "file_extension": ".py",
   "mimetype": "text/x-python",
   "name": "python",
   "nbconvert_exporter": "python",
   "pygments_lexer": "ipython3",
   "version": "3.8.5"
  }
 },
 "nbformat": 4,
 "nbformat_minor": 4
}
